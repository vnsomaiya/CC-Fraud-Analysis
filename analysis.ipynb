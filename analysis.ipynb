{
 "cells": [
  {
   "cell_type": "code",
   "execution_count": 1,
   "id": "innocent-flashing",
   "metadata": {},
   "outputs": [],
   "source": [
    "import pandas as pd\n",
    "import matplotlib.pyplot as plt\n",
    "%matplotlib inline"
   ]
  },
  {
   "cell_type": "code",
   "execution_count": 2,
   "id": "checked-holmes",
   "metadata": {},
   "outputs": [
    {
     "data": {
      "text/html": [
       "<div>\n",
       "<style scoped>\n",
       "    .dataframe tbody tr th:only-of-type {\n",
       "        vertical-align: middle;\n",
       "    }\n",
       "\n",
       "    .dataframe tbody tr th {\n",
       "        vertical-align: top;\n",
       "    }\n",
       "\n",
       "    .dataframe thead th {\n",
       "        text-align: right;\n",
       "    }\n",
       "</style>\n",
       "<table border=\"1\" class=\"dataframe\">\n",
       "  <thead>\n",
       "    <tr style=\"text-align: right;\">\n",
       "      <th></th>\n",
       "      <th>City</th>\n",
       "      <th>Date</th>\n",
       "      <th>Card Type</th>\n",
       "      <th>Exp Type</th>\n",
       "      <th>Gender</th>\n",
       "      <th>Amount</th>\n",
       "    </tr>\n",
       "  </thead>\n",
       "  <tbody>\n",
       "    <tr>\n",
       "      <th>26042</th>\n",
       "      <td>Hyderabad, India</td>\n",
       "      <td>2015-01-15</td>\n",
       "      <td>Silver</td>\n",
       "      <td>Travel</td>\n",
       "      <td>M</td>\n",
       "      <td>194550</td>\n",
       "    </tr>\n",
       "    <tr>\n",
       "      <th>26043</th>\n",
       "      <td>Hyderabad, India</td>\n",
       "      <td>2015-05-15</td>\n",
       "      <td>Silver</td>\n",
       "      <td>Travel</td>\n",
       "      <td>F</td>\n",
       "      <td>280335</td>\n",
       "    </tr>\n",
       "    <tr>\n",
       "      <th>26044</th>\n",
       "      <td>Kolkata, India</td>\n",
       "      <td>2014-10-14</td>\n",
       "      <td>Gold</td>\n",
       "      <td>Travel</td>\n",
       "      <td>M</td>\n",
       "      <td>243249</td>\n",
       "    </tr>\n",
       "    <tr>\n",
       "      <th>26045</th>\n",
       "      <td>Kolkata, India</td>\n",
       "      <td>2014-02-26</td>\n",
       "      <td>Signature</td>\n",
       "      <td>Travel</td>\n",
       "      <td>F</td>\n",
       "      <td>170049</td>\n",
       "    </tr>\n",
       "    <tr>\n",
       "      <th>26046</th>\n",
       "      <td>Hyderabad, India</td>\n",
       "      <td>2013-10-09</td>\n",
       "      <td>Signature</td>\n",
       "      <td>Travel</td>\n",
       "      <td>M</td>\n",
       "      <td>198903</td>\n",
       "    </tr>\n",
       "    <tr>\n",
       "      <th>26047</th>\n",
       "      <td>Kolkata, India</td>\n",
       "      <td>2014-06-22</td>\n",
       "      <td>Silver</td>\n",
       "      <td>Travel</td>\n",
       "      <td>F</td>\n",
       "      <td>128191</td>\n",
       "    </tr>\n",
       "    <tr>\n",
       "      <th>26048</th>\n",
       "      <td>Pune, India</td>\n",
       "      <td>2014-08-03</td>\n",
       "      <td>Signature</td>\n",
       "      <td>Travel</td>\n",
       "      <td>M</td>\n",
       "      <td>246316</td>\n",
       "    </tr>\n",
       "    <tr>\n",
       "      <th>26049</th>\n",
       "      <td>Hyderabad, India</td>\n",
       "      <td>2015-01-16</td>\n",
       "      <td>Silver</td>\n",
       "      <td>Travel</td>\n",
       "      <td>M</td>\n",
       "      <td>265019</td>\n",
       "    </tr>\n",
       "    <tr>\n",
       "      <th>26050</th>\n",
       "      <td>Kanpur, India</td>\n",
       "      <td>2014-09-14</td>\n",
       "      <td>Silver</td>\n",
       "      <td>Travel</td>\n",
       "      <td>M</td>\n",
       "      <td>88174</td>\n",
       "    </tr>\n",
       "    <tr>\n",
       "      <th>26051</th>\n",
       "      <td>Hyderabad, India</td>\n",
       "      <td>2013-10-19</td>\n",
       "      <td>Signature</td>\n",
       "      <td>Bills</td>\n",
       "      <td>M</td>\n",
       "      <td>184410</td>\n",
       "    </tr>\n",
       "  </tbody>\n",
       "</table>\n",
       "</div>"
      ],
      "text/plain": [
       "                   City       Date  Card Type Exp Type Gender  Amount\n",
       "26042  Hyderabad, India 2015-01-15     Silver   Travel      M  194550\n",
       "26043  Hyderabad, India 2015-05-15     Silver   Travel      F  280335\n",
       "26044    Kolkata, India 2014-10-14       Gold   Travel      M  243249\n",
       "26045    Kolkata, India 2014-02-26  Signature   Travel      F  170049\n",
       "26046  Hyderabad, India 2013-10-09  Signature   Travel      M  198903\n",
       "26047    Kolkata, India 2014-06-22     Silver   Travel      F  128191\n",
       "26048       Pune, India 2014-08-03  Signature   Travel      M  246316\n",
       "26049  Hyderabad, India 2015-01-16     Silver   Travel      M  265019\n",
       "26050     Kanpur, India 2014-09-14     Silver   Travel      M   88174\n",
       "26051  Hyderabad, India 2013-10-19  Signature    Bills      M  184410"
      ]
     },
     "execution_count": 2,
     "metadata": {},
     "output_type": "execute_result"
    }
   ],
   "source": [
    "data = pd.read_excel('DataSources/CC-3Y-Transactions.xlsx')\n",
    "data.columns = data.columns.str.lstrip()\n",
    "data.tail(10)"
   ]
  },
  {
   "cell_type": "markdown",
   "id": "derived-sport",
   "metadata": {},
   "source": [
    "# Report 1"
   ]
  },
  {
   "cell_type": "code",
   "execution_count": 3,
   "id": "voluntary-growth",
   "metadata": {},
   "outputs": [],
   "source": [
    "data1 = data\n",
    "data2 = data\n",
    "data3 = data \n",
    "\n",
    "data1['Year'] = pd.DatetimeIndex(data1['Date']).year\n",
    "data2['Year'] = pd.DatetimeIndex(data2['Date']).year\n",
    "data3['Year'] = pd.DatetimeIndex(data3['Date']).year\n",
    "\n",
    "data1 = data1.loc[data1['Year']==2013]\n",
    "data2 = data2.loc[data2['Year']==2014]\n",
    "data3 = data3.loc[data3['Year']==2015]\n",
    "\n",
    "data1 = data1.groupby(['City', 'Year']).sum('Amount').sort_values('Amount', ascending = False)\n",
    "data2 = data2.groupby(['City', 'Year']).sum('Amount').sort_values('Amount', ascending = False)\n",
    "data3 = data3.groupby(['City', 'Year']).sum('Amount').sort_values('Amount', ascending = False)"
   ]
  },
  {
   "cell_type": "code",
   "execution_count": 4,
   "id": "natural-variance",
   "metadata": {},
   "outputs": [
    {
     "data": {
      "text/html": [
       "<div>\n",
       "<style scoped>\n",
       "    .dataframe tbody tr th:only-of-type {\n",
       "        vertical-align: middle;\n",
       "    }\n",
       "\n",
       "    .dataframe tbody tr th {\n",
       "        vertical-align: top;\n",
       "    }\n",
       "\n",
       "    .dataframe thead th {\n",
       "        text-align: right;\n",
       "    }\n",
       "</style>\n",
       "<table border=\"1\" class=\"dataframe\">\n",
       "  <thead>\n",
       "    <tr style=\"text-align: right;\">\n",
       "      <th>City</th>\n",
       "      <th>Bengaluru, India</th>\n",
       "      <th>Greater Mumbai, India</th>\n",
       "      <th>Ahmedabad, India</th>\n",
       "      <th>Delhi, India</th>\n",
       "      <th>Kanpur, India</th>\n",
       "    </tr>\n",
       "    <tr>\n",
       "      <th>Year</th>\n",
       "      <th></th>\n",
       "      <th></th>\n",
       "      <th></th>\n",
       "      <th></th>\n",
       "      <th></th>\n",
       "    </tr>\n",
       "  </thead>\n",
       "  <tbody>\n",
       "    <tr>\n",
       "      <th>2013</th>\n",
       "      <td>84999287</td>\n",
       "      <td>84735652</td>\n",
       "      <td>83291837</td>\n",
       "      <td>82126961</td>\n",
       "      <td>19640338</td>\n",
       "    </tr>\n",
       "  </tbody>\n",
       "</table>\n",
       "</div>"
      ],
      "text/plain": [
       "City  Bengaluru, India  Greater Mumbai, India  Ahmedabad, India  Delhi, India  \\\n",
       "Year                                                                            \n",
       "2013          84999287               84735652          83291837      82126961   \n",
       "\n",
       "City  Kanpur, India  \n",
       "Year                 \n",
       "2013       19640338  "
      ]
     },
     "execution_count": 4,
     "metadata": {},
     "output_type": "execute_result"
    }
   ],
   "source": [
    "report1 = data1.head(5)\n",
    "report1 = report1.reset_index()\n",
    "report1 = report1[[\"Year\", \"City\", \"Amount\"]]\n",
    "report1 = pd.pivot_table(report1, index='Year', columns = 'City')\n",
    "report1.columns = report1.columns.droplevel()\n",
    "report1 = report1[[\"Bengaluru, India\", \"Greater Mumbai, India\", \"Ahmedabad, India\", \"Delhi, India\", \"Kanpur, India\"]]\n",
    "report1"
   ]
  },
  {
   "cell_type": "code",
   "execution_count": 5,
   "id": "working-candy",
   "metadata": {},
   "outputs": [
    {
     "data": {
      "text/html": [
       "<div>\n",
       "<style scoped>\n",
       "    .dataframe tbody tr th:only-of-type {\n",
       "        vertical-align: middle;\n",
       "    }\n",
       "\n",
       "    .dataframe tbody tr th {\n",
       "        vertical-align: top;\n",
       "    }\n",
       "\n",
       "    .dataframe thead th {\n",
       "        text-align: right;\n",
       "    }\n",
       "</style>\n",
       "<table border=\"1\" class=\"dataframe\">\n",
       "  <thead>\n",
       "    <tr style=\"text-align: right;\">\n",
       "      <th>City</th>\n",
       "      <th>Bengaluru, India</th>\n",
       "      <th>Greater Mumbai, India</th>\n",
       "      <th>Ahmedabad, India</th>\n",
       "      <th>Delhi, India</th>\n",
       "      <th>Hyderabad, India</th>\n",
       "    </tr>\n",
       "    <tr>\n",
       "      <th>Year</th>\n",
       "      <th></th>\n",
       "      <th></th>\n",
       "      <th></th>\n",
       "      <th></th>\n",
       "      <th></th>\n",
       "    </tr>\n",
       "  </thead>\n",
       "  <tbody>\n",
       "    <tr>\n",
       "      <th>2014</th>\n",
       "      <td>351482095</td>\n",
       "      <td>349709415</td>\n",
       "      <td>348289187</td>\n",
       "      <td>329591186</td>\n",
       "      <td>71066005</td>\n",
       "    </tr>\n",
       "  </tbody>\n",
       "</table>\n",
       "</div>"
      ],
      "text/plain": [
       "City  Bengaluru, India  Greater Mumbai, India  Ahmedabad, India  Delhi, India  \\\n",
       "Year                                                                            \n",
       "2014         351482095              349709415         348289187     329591186   \n",
       "\n",
       "City  Hyderabad, India  \n",
       "Year                    \n",
       "2014          71066005  "
      ]
     },
     "execution_count": 5,
     "metadata": {},
     "output_type": "execute_result"
    }
   ],
   "source": [
    "report1_2 = data2.head(5)\n",
    "report1_2 = report1_2.reset_index()\n",
    "report1_2 = report1_2[[\"Year\", \"City\", \"Amount\"]]\n",
    "report1_2 = pd.pivot_table(report1_2, index='Year', columns = 'City')\n",
    "report1_2.columns = report1_2.columns.droplevel()\n",
    "report1_2 = report1_2[[\"Bengaluru, India\", \"Greater Mumbai, India\", \"Ahmedabad, India\", \"Delhi, India\", \"Hyderabad, India\"]]\n",
    "report1_2"
   ]
  },
  {
   "cell_type": "code",
   "execution_count": 6,
   "id": "controlling-ocean",
   "metadata": {},
   "outputs": [
    {
     "data": {
      "text/html": [
       "<div>\n",
       "<style scoped>\n",
       "    .dataframe tbody tr th:only-of-type {\n",
       "        vertical-align: middle;\n",
       "    }\n",
       "\n",
       "    .dataframe tbody tr th {\n",
       "        vertical-align: top;\n",
       "    }\n",
       "\n",
       "    .dataframe thead th {\n",
       "        text-align: right;\n",
       "    }\n",
       "</style>\n",
       "<table border=\"1\" class=\"dataframe\">\n",
       "  <thead>\n",
       "    <tr style=\"text-align: right;\">\n",
       "      <th>City</th>\n",
       "      <th>Delhi, India</th>\n",
       "      <th>Greater Mumbai, India</th>\n",
       "      <th>Ahmedabad, India</th>\n",
       "      <th>Bengaluru, India</th>\n",
       "      <th>Kolkata, India</th>\n",
       "    </tr>\n",
       "    <tr>\n",
       "      <th>Year</th>\n",
       "      <th></th>\n",
       "      <th></th>\n",
       "      <th></th>\n",
       "      <th></th>\n",
       "      <th></th>\n",
       "    </tr>\n",
       "  </thead>\n",
       "  <tbody>\n",
       "    <tr>\n",
       "      <th>2015</th>\n",
       "      <td>145211065</td>\n",
       "      <td>142306409</td>\n",
       "      <td>136213286</td>\n",
       "      <td>135845357</td>\n",
       "      <td>30918731</td>\n",
       "    </tr>\n",
       "  </tbody>\n",
       "</table>\n",
       "</div>"
      ],
      "text/plain": [
       "City  Delhi, India  Greater Mumbai, India  Ahmedabad, India  Bengaluru, India  \\\n",
       "Year                                                                            \n",
       "2015     145211065              142306409         136213286         135845357   \n",
       "\n",
       "City  Kolkata, India  \n",
       "Year                  \n",
       "2015        30918731  "
      ]
     },
     "execution_count": 6,
     "metadata": {},
     "output_type": "execute_result"
    }
   ],
   "source": [
    "report1_3 = data3.head(5)\n",
    "report1_3 = report1_3.reset_index()\n",
    "report1_3 = report1_3[[\"Year\", \"City\", \"Amount\"]]\n",
    "report1_3 = pd.pivot_table(report1_3, index='Year', columns = 'City')\n",
    "report1_3.columns = report1_3.columns.droplevel()\n",
    "report1_3 = report1_3[[\"Delhi, India\", \"Greater Mumbai, India\", \"Ahmedabad, India\", \"Bengaluru, India\", \"Kolkata, India\"]]\n",
    "report1_3"
   ]
  },
  {
   "cell_type": "code",
   "execution_count": 7,
   "id": "developed-edition",
   "metadata": {},
   "outputs": [
    {
     "data": {
      "image/png": "[encoded data removed]",
      "text/plain": [
       "<Figure size 504x360 with 1 Axes>"
      ]
     },
     "metadata": {
      "needs_background": "light"
     },
     "output_type": "display_data"
    }
   ],
   "source": [
    "full_report1 = pd.concat([report1,report1_2, report1_3], axis=0)\n",
    "full_report1 = full_report1.unstack()\n",
    "full_report1 = pd.DataFrame(full_report1)\n",
    "full_report1 = full_report1.reset_index()\n",
    "full_report1.rename(columns = {0:'Amount'}, inplace = True)\n",
    "plt.rcParams[\"figure.figsize\"] = (7, 5)\n",
    "full_report1.pivot(index='Year', columns='City', values='Amount').plot(kind='bar', stacked=True)\n",
    "plt.xlabel('Year')\n",
    "plt.ylabel('Expense Amount')\n",
    "plt.title('Year-wise Top 5 Cities Expense')\n",
    "plt.show()"
   ]
  },
  {
   "cell_type": "markdown",
   "id": "bridal-stephen",
   "metadata": {},
   "source": [
    "# Report 2"
   ]
  },
  {
   "cell_type": "code",
   "execution_count": 8,
   "id": "spare-rochester",
   "metadata": {},
   "outputs": [],
   "source": [
    "data4 = data\n",
    "data5 = data\n",
    "data6 = data\n",
    "\n",
    "data4['Quarter'] = pd.DatetimeIndex(data4['Date']).quarter\n",
    "data5['Quarter'] = pd.DatetimeIndex(data5['Date']).quarter\n",
    "data6['Quarter'] = pd.DatetimeIndex(data6['Date']).quarter\n",
    "\n",
    "data4['Year'] = pd.DatetimeIndex(data4['Date']).year\n",
    "data5['Year'] = pd.DatetimeIndex(data5['Date']).year\n",
    "data6['Year'] = pd.DatetimeIndex(data6['Date']).year\n",
    "\n",
    "data4 = data4.loc[data4['Year']==2013]\n",
    "data5 = data5.loc[data5['Year']==2014]\n",
    "data6 = data6.loc[data6['Year']==2015]\n",
    "\n",
    "data4 = data4.groupby(['Year', 'Gender', 'Quarter'])['Amount'].sum()\n",
    "data5 = data5.groupby(['Year', 'Gender', 'Quarter'])['Amount'].sum()\n",
    "data6 = data6.groupby(['Year', 'Gender', 'Quarter'])['Amount'].sum()\n",
    "\n",
    "report2 = data4\n",
    "report2_2 = data5\n",
    "report2_3 = data6"
   ]
  },
  {
   "cell_type": "code",
   "execution_count": 9,
   "id": "editorial-samba",
   "metadata": {},
   "outputs": [
    {
     "data": {
      "text/html": [
       "<div>\n",
       "<style scoped>\n",
       "    .dataframe tbody tr th:only-of-type {\n",
       "        vertical-align: middle;\n",
       "    }\n",
       "\n",
       "    .dataframe tbody tr th {\n",
       "        vertical-align: top;\n",
       "    }\n",
       "\n",
       "    .dataframe thead th {\n",
       "        text-align: right;\n",
       "    }\n",
       "</style>\n",
       "<table border=\"1\" class=\"dataframe\">\n",
       "  <thead>\n",
       "    <tr style=\"text-align: right;\">\n",
       "      <th></th>\n",
       "      <th>Quarter</th>\n",
       "      <th>4</th>\n",
       "    </tr>\n",
       "    <tr>\n",
       "      <th>Year</th>\n",
       "      <th>Gender</th>\n",
       "      <th></th>\n",
       "    </tr>\n",
       "  </thead>\n",
       "  <tbody>\n",
       "    <tr>\n",
       "      <th rowspan=\"2\" valign=\"top\">2013</th>\n",
       "      <th>F</th>\n",
       "      <td>333421908</td>\n",
       "    </tr>\n",
       "    <tr>\n",
       "      <th>M</th>\n",
       "      <td>280221976</td>\n",
       "    </tr>\n",
       "  </tbody>\n",
       "</table>\n",
       "</div>"
      ],
      "text/plain": [
       "Quarter              4\n",
       "Year Gender           \n",
       "2013 F       333421908\n",
       "     M       280221976"
      ]
     },
     "execution_count": 9,
     "metadata": {},
     "output_type": "execute_result"
    }
   ],
   "source": [
    "report2.unstack()"
   ]
  },
  {
   "cell_type": "code",
   "execution_count": 10,
   "id": "statutory-advocacy",
   "metadata": {},
   "outputs": [
    {
     "data": {
      "text/html": [
       "<div>\n",
       "<style scoped>\n",
       "    .dataframe tbody tr th:only-of-type {\n",
       "        vertical-align: middle;\n",
       "    }\n",
       "\n",
       "    .dataframe tbody tr th {\n",
       "        vertical-align: top;\n",
       "    }\n",
       "\n",
       "    .dataframe thead th {\n",
       "        text-align: right;\n",
       "    }\n",
       "</style>\n",
       "<table border=\"1\" class=\"dataframe\">\n",
       "  <thead>\n",
       "    <tr style=\"text-align: right;\">\n",
       "      <th></th>\n",
       "      <th>Quarter</th>\n",
       "      <th>1</th>\n",
       "      <th>2</th>\n",
       "      <th>3</th>\n",
       "      <th>4</th>\n",
       "    </tr>\n",
       "    <tr>\n",
       "      <th>Year</th>\n",
       "      <th>Gender</th>\n",
       "      <th></th>\n",
       "      <th></th>\n",
       "      <th></th>\n",
       "      <th></th>\n",
       "    </tr>\n",
       "  </thead>\n",
       "  <tbody>\n",
       "    <tr>\n",
       "      <th rowspan=\"2\" valign=\"top\">2014</th>\n",
       "      <th>F</th>\n",
       "      <td>318768288</td>\n",
       "      <td>331421060</td>\n",
       "      <td>335382914</td>\n",
       "      <td>334689993</td>\n",
       "    </tr>\n",
       "    <tr>\n",
       "      <th>M</th>\n",
       "      <td>281336181</td>\n",
       "      <td>269947023</td>\n",
       "      <td>290613061</td>\n",
       "      <td>292555513</td>\n",
       "    </tr>\n",
       "  </tbody>\n",
       "</table>\n",
       "</div>"
      ],
      "text/plain": [
       "Quarter              1          2          3          4\n",
       "Year Gender                                            \n",
       "2014 F       318768288  331421060  335382914  334689993\n",
       "     M       281336181  269947023  290613061  292555513"
      ]
     },
     "execution_count": 10,
     "metadata": {},
     "output_type": "execute_result"
    }
   ],
   "source": [
    "report2_2.unstack()"
   ]
  },
  {
   "cell_type": "code",
   "execution_count": 11,
   "id": "subjective-attendance",
   "metadata": {},
   "outputs": [
    {
     "data": {
      "text/html": [
       "<div>\n",
       "<style scoped>\n",
       "    .dataframe tbody tr th:only-of-type {\n",
       "        vertical-align: middle;\n",
       "    }\n",
       "\n",
       "    .dataframe tbody tr th {\n",
       "        vertical-align: top;\n",
       "    }\n",
       "\n",
       "    .dataframe thead th {\n",
       "        text-align: right;\n",
       "    }\n",
       "</style>\n",
       "<table border=\"1\" class=\"dataframe\">\n",
       "  <thead>\n",
       "    <tr style=\"text-align: right;\">\n",
       "      <th></th>\n",
       "      <th>Quarter</th>\n",
       "      <th>1</th>\n",
       "      <th>2</th>\n",
       "    </tr>\n",
       "    <tr>\n",
       "      <th>Year</th>\n",
       "      <th>Gender</th>\n",
       "      <th></th>\n",
       "      <th></th>\n",
       "    </tr>\n",
       "  </thead>\n",
       "  <tbody>\n",
       "    <tr>\n",
       "      <th rowspan=\"2\" valign=\"top\">2015</th>\n",
       "      <th>F</th>\n",
       "      <td>344993188</td>\n",
       "      <td>206633679</td>\n",
       "    </tr>\n",
       "    <tr>\n",
       "      <th>M</th>\n",
       "      <td>279678969</td>\n",
       "      <td>175169620</td>\n",
       "    </tr>\n",
       "  </tbody>\n",
       "</table>\n",
       "</div>"
      ],
      "text/plain": [
       "Quarter              1          2\n",
       "Year Gender                      \n",
       "2015 F       344993188  206633679\n",
       "     M       279678969  175169620"
      ]
     },
     "execution_count": 11,
     "metadata": {},
     "output_type": "execute_result"
    }
   ],
   "source": [
    "report2_3.unstack()"
   ]
  },
  {
   "cell_type": "code",
   "execution_count": 12,
   "id": "fallen-migration",
   "metadata": {},
   "outputs": [
    {
     "data": {
      "image/png": "[encoded data removed]",
      "text/plain": [
       "<Figure size 504x360 with 1 Axes>"
      ]
     },
     "metadata": {
      "needs_background": "light"
     },
     "output_type": "display_data"
    }
   ],
   "source": [
    "full_report2 = pd.concat([report2,report2_2,report2_3], axis=0)\n",
    "full_report2 = full_report2.reset_index()\n",
    "#print(full_report2)\n",
    "\n",
    "plt.rcParams[\"figure.figsize\"] = (7, 5)\n",
    "full_report2.pivot(index=['Year', 'Quarter'], columns= 'Gender').plot(kind='barh', color=['blue','pink']).legend(['Male','Female'])\n",
    "plt.xlabel('Amount')\n",
    "plt.ylabel('Year-Quarter')\n",
    "plt.title('Gender-Expenses-Analysis')\n",
    "plt.show()"
   ]
  },
  {
   "cell_type": "markdown",
   "id": "bridal-browse",
   "metadata": {},
   "source": [
    "# Report 3"
   ]
  },
  {
   "cell_type": "code",
   "execution_count": 13,
   "id": "dimensional-objective",
   "metadata": {},
   "outputs": [],
   "source": [
    "data7 = data\n",
    "data8 = data\n",
    "data9 = data \n",
    "\n",
    "data7['Year'] = pd.DatetimeIndex(data7['Date']).year\n",
    "data8['Year'] = pd.DatetimeIndex(data8['Date']).year\n",
    "data9['Year'] = pd.DatetimeIndex(data9['Date']).year\n",
    "\n",
    "data7 = data7.loc[data7['Year']==2013]\n",
    "data8 = data8.loc[data8['Year']==2014]\n",
    "data9 = data9.loc[data9['Year']==2015]\n",
    "\n",
    "data7 = data7.groupby(['Exp Type', 'Year']).sum('Amount').sort_values('Amount', ascending = True)\n",
    "data8 = data8.groupby(['Exp Type', 'Year']).sum('Amount').sort_values('Amount', ascending = True)\n",
    "data9 = data9.groupby(['Exp Type', 'Year']).sum('Amount').sort_values('Amount', ascending = True)"
   ]
  },
  {
   "cell_type": "code",
   "execution_count": 14,
   "id": "rational-radar",
   "metadata": {},
   "outputs": [
    {
     "data": {
      "text/html": [
       "<div>\n",
       "<style scoped>\n",
       "    .dataframe tbody tr th:only-of-type {\n",
       "        vertical-align: middle;\n",
       "    }\n",
       "\n",
       "    .dataframe tbody tr th {\n",
       "        vertical-align: top;\n",
       "    }\n",
       "\n",
       "    .dataframe thead th {\n",
       "        text-align: right;\n",
       "    }\n",
       "</style>\n",
       "<table border=\"1\" class=\"dataframe\">\n",
       "  <thead>\n",
       "    <tr style=\"text-align: right;\">\n",
       "      <th>Exp Type</th>\n",
       "      <th>Entertainment</th>\n",
       "      <th>Grocery</th>\n",
       "      <th>Travel</th>\n",
       "    </tr>\n",
       "    <tr>\n",
       "      <th>Year</th>\n",
       "      <th></th>\n",
       "      <th></th>\n",
       "      <th></th>\n",
       "    </tr>\n",
       "  </thead>\n",
       "  <tbody>\n",
       "    <tr>\n",
       "      <th>2013</th>\n",
       "      <td>113094669</td>\n",
       "      <td>111806890</td>\n",
       "      <td>15353606</td>\n",
       "    </tr>\n",
       "  </tbody>\n",
       "</table>\n",
       "</div>"
      ],
      "text/plain": [
       "Exp Type  Entertainment    Grocery    Travel\n",
       "Year                                        \n",
       "2013          113094669  111806890  15353606"
      ]
     },
     "execution_count": 14,
     "metadata": {},
     "output_type": "execute_result"
    }
   ],
   "source": [
    "report3 = data7.head(3)\n",
    "report3 = report3.reset_index()\n",
    "report3 = report3[[\"Year\", \"Exp Type\", \"Amount\"]]\n",
    "report_3 = pd.pivot_table(report3, index='Year', columns = 'Exp Type')\n",
    "report_3.columns = report_3.columns.droplevel()\n",
    "report_3"
   ]
  },
  {
   "cell_type": "code",
   "execution_count": 15,
   "id": "structured-registration",
   "metadata": {},
   "outputs": [
    {
     "data": {
      "image/png": "[encoded data removed]",
      "text/plain": [
       "<Figure size 504x360 with 1 Axes>"
      ]
     },
     "metadata": {},
     "output_type": "display_data"
    }
   ],
   "source": [
    "plt.subplots(figsize =(7, 5))\n",
    "explode = (0.15, 0.05, 0.1)\n",
    "wp = { 'linewidth' : 1, 'edgecolor' : \"purple\" }\n",
    "plt.pie(report3['Amount'], labels = report3['Exp Type'],shadow = True, explode = explode, startangle = 90, wedgeprops = wp, autopct='%.1f%%')\n",
    "plt.title('2013 - TOP3-Expenses-Analysis')\n",
    "plt.show()"
   ]
  },
  {
   "cell_type": "code",
   "execution_count": 16,
   "id": "major-thinking",
   "metadata": {},
   "outputs": [
    {
     "data": {
      "text/html": [
       "<div>\n",
       "<style scoped>\n",
       "    .dataframe tbody tr th:only-of-type {\n",
       "        vertical-align: middle;\n",
       "    }\n",
       "\n",
       "    .dataframe tbody tr th {\n",
       "        vertical-align: top;\n",
       "    }\n",
       "\n",
       "    .dataframe thead th {\n",
       "        text-align: right;\n",
       "    }\n",
       "</style>\n",
       "<table border=\"1\" class=\"dataframe\">\n",
       "  <thead>\n",
       "    <tr style=\"text-align: right;\">\n",
       "      <th>Exp Type</th>\n",
       "      <th>Entertainment</th>\n",
       "      <th>Grocery</th>\n",
       "      <th>Travel</th>\n",
       "    </tr>\n",
       "    <tr>\n",
       "      <th>Year</th>\n",
       "      <th></th>\n",
       "      <th></th>\n",
       "      <th></th>\n",
       "    </tr>\n",
       "  </thead>\n",
       "  <tbody>\n",
       "    <tr>\n",
       "      <th>2014</th>\n",
       "      <td>443730570</td>\n",
       "      <td>428628961</td>\n",
       "      <td>65532848</td>\n",
       "    </tr>\n",
       "  </tbody>\n",
       "</table>\n",
       "</div>"
      ],
      "text/plain": [
       "Exp Type  Entertainment    Grocery    Travel\n",
       "Year                                        \n",
       "2014          443730570  428628961  65532848"
      ]
     },
     "execution_count": 16,
     "metadata": {},
     "output_type": "execute_result"
    }
   ],
   "source": [
    "report3_2 = data8.head(3)\n",
    "report3_2 = report3_2.reset_index()\n",
    "report3_2 = report3_2[[\"Year\", \"Exp Type\", \"Amount\"]]\n",
    "report_3_2 = pd.pivot_table(report3_2, index='Year', columns = 'Exp Type')\n",
    "report_3_2.columns = report_3_2.columns.droplevel()\n",
    "report_3_2"
   ]
  },
  {
   "cell_type": "code",
   "execution_count": 17,
   "id": "outstanding-mileage",
   "metadata": {},
   "outputs": [
    {
     "data": {
      "image/png": "[encoded data removed]",
      "text/plain": [
       "<Figure size 504x360 with 1 Axes>"
      ]
     },
     "metadata": {},
     "output_type": "display_data"
    }
   ],
   "source": [
    "plt.subplots(figsize =(7, 5))\n",
    "explode = (0.15, 0.05, 0.1)\n",
    "wp = { 'linewidth' : 1, 'edgecolor' : \"magenta\" }\n",
    "plt.pie(report3_2['Amount'], labels = report3_2['Exp Type'],shadow = True, explode = explode, startangle = 90, wedgeprops = wp, autopct='%.1f%%')\n",
    "plt.title('2014 - TOP3-Expenses-Analysis')\n",
    "plt.show()"
   ]
  },
  {
   "cell_type": "code",
   "execution_count": 18,
   "id": "sensitive-sleep",
   "metadata": {},
   "outputs": [
    {
     "data": {
      "text/html": [
       "<div>\n",
       "<style scoped>\n",
       "    .dataframe tbody tr th:only-of-type {\n",
       "        vertical-align: middle;\n",
       "    }\n",
       "\n",
       "    .dataframe tbody tr th {\n",
       "        vertical-align: top;\n",
       "    }\n",
       "\n",
       "    .dataframe thead th {\n",
       "        text-align: right;\n",
       "    }\n",
       "</style>\n",
       "<table border=\"1\" class=\"dataframe\">\n",
       "  <thead>\n",
       "    <tr style=\"text-align: right;\">\n",
       "      <th>Exp Type</th>\n",
       "      <th>Entertainment</th>\n",
       "      <th>Grocery</th>\n",
       "      <th>Travel</th>\n",
       "    </tr>\n",
       "    <tr>\n",
       "      <th>Year</th>\n",
       "      <th></th>\n",
       "      <th></th>\n",
       "      <th></th>\n",
       "    </tr>\n",
       "  </thead>\n",
       "  <tbody>\n",
       "    <tr>\n",
       "      <th>2015</th>\n",
       "      <td>169612297</td>\n",
       "      <td>177772072</td>\n",
       "      <td>28369157</td>\n",
       "    </tr>\n",
       "  </tbody>\n",
       "</table>\n",
       "</div>"
      ],
      "text/plain": [
       "Exp Type  Entertainment    Grocery    Travel\n",
       "Year                                        \n",
       "2015          169612297  177772072  28369157"
      ]
     },
     "execution_count": 18,
     "metadata": {},
     "output_type": "execute_result"
    }
   ],
   "source": [
    "report3_3 = data9.head(3)\n",
    "report3_3 = report3_3.reset_index()\n",
    "report3_3 = report3_3[[\"Year\", \"Exp Type\", \"Amount\"]]\n",
    "report_3_3 = pd.pivot_table(report3_3, index='Year', columns = 'Exp Type')\n",
    "report_3_3.columns = report_3_3.columns.droplevel()\n",
    "report_3_3"
   ]
  },
  {
   "cell_type": "code",
   "execution_count": 19,
   "id": "liable-supplier",
   "metadata": {},
   "outputs": [
    {
     "data": {
      "image/png": "[encoded data removed]",
      "text/plain": [
       "<Figure size 504x360 with 1 Axes>"
      ]
     },
     "metadata": {},
     "output_type": "display_data"
    }
   ],
   "source": [
    "plt.subplots(figsize =(7, 5))\n",
    "explode = (0.15, 0.05, 0.1)\n",
    "wp = {'linewidth' : 1, 'edgecolor' : \"grey\" }\n",
    "plt.pie(report3_3['Amount'], labels = report3_3['Exp Type'],shadow = True, explode = explode, startangle = 90, wedgeprops = wp, autopct='%.1f%%')\n",
    "plt.title('2015 - TOP3-Expenses-Analysis')\n",
    "plt.show()"
   ]
  },
  {
   "cell_type": "code",
   "execution_count": 20,
   "id": "molecular-pakistan",
   "metadata": {},
   "outputs": [
    {
     "data": {
      "image/png": "[encoded data removed]",
      "text/plain": [
       "<Figure size 504x504 with 1 Axes>"
      ]
     },
     "metadata": {
      "needs_background": "light"
     },
     "output_type": "display_data"
    }
   ],
   "source": [
    "full_report3 = pd.concat([report_3,report_3_2, report_3_3], axis=0)\n",
    "#print(full_report3)\n",
    "\n",
    "plt.rcParams[\"figure.figsize\"] = (7, 7)\n",
    "full_report3.plot(kind='bar')\n",
    "plt.xlabel('Year')\n",
    "plt.ylabel('Amount')\n",
    "plt.title('TOP3-Expenses-Analysis')\n",
    "plt.show()"
   ]
  }
 ],
 "metadata": {
  "kernelspec": {
   "display_name": "Python 3",
   "language": "python",
   "name": "python3"
  },
  "language_info": {
   "codemirror_mode": {
    "name": "ipython",
    "version": 3
   },
   "file_extension": ".py",
   "mimetype": "text/x-python",
   "name": "python",
   "nbconvert_exporter": "python",
   "pygments_lexer": "ipython3",
   "version": "3.9.4"
  }
 },
 "nbformat": 4,
 "nbformat_minor": 5
}
